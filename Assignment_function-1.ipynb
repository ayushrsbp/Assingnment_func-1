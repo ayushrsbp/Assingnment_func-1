{
 "cells": [
  {
   "cell_type": "code",
   "execution_count": 5,
   "id": "93e1fcdd-2c68-4631-9f4f-ed0dff349581",
   "metadata": {},
   "outputs": [],
   "source": [
    "# Q1.\n",
    "# def is used to create a function. lambda can also be used for create some function.\n",
    "def odd() :\n",
    "    l = []\n",
    "    for i in range(26) :\n",
    "        if i%2 != 0 :\n",
    "           l.append(i)\n",
    "    return l"
   ]
  },
  {
   "cell_type": "code",
   "execution_count": 10,
   "id": "b02e2790-b209-4578-8612-29e3830189c6",
   "metadata": {},
   "outputs": [
    {
     "name": "stdout",
     "output_type": "stream",
     "text": [
      "34\n",
      "ayush : Raj\n",
      "bhavya : True\n"
     ]
    }
   ],
   "source": [
    "# Q2.\n",
    "# In many cases, we don't know the number of parameters in advance. In these cases, we use args and kwargs. So, we use args and kwargs to pass the number of parameters.\n",
    "\n",
    "def sum(*args) :\n",
    "    total_sum = 0\n",
    "    for i in args :\n",
    "        total_sum+=i\n",
    "    return total_sum\n",
    "\n",
    "print(sum(4,9,8,6,7))\n",
    "      \n",
    "def print_key_value(**kwargs) :\n",
    "      for key, value in kwargs.items() :\n",
    "          print(key + \" : \" + str(value))\n",
    "\n",
    "print_key_value(ayush = \"Raj\", bhavya = True)"
   ]
  },
  {
   "cell_type": "code",
   "execution_count": 11,
   "id": "180df083-2213-4b2a-a623-c63a3b9aa9dc",
   "metadata": {},
   "outputs": [
    {
     "name": "stdout",
     "output_type": "stream",
     "text": [
      "2\n",
      "4\n",
      "6\n",
      "8\n",
      "10\n"
     ]
    }
   ],
   "source": [
    "# Q3.\n",
    "# Iterator is an object which heps to traverse on an iterable object by using next().\n",
    "# 'iter()' is used to intialise an iterator object and 'next()' is used to iteration.\n",
    "\n",
    "l = [2, 4, 6, 8, 10, 12, 14, 16, 18, 20]\n",
    "l1 = iter(l)\n",
    "for i in range(5) :\n",
    "    print(next(l1))"
   ]
  },
  {
   "cell_type": "code",
   "execution_count": 24,
   "id": "47af46cf-6cd4-4817-af00-74e1491762fb",
   "metadata": {},
   "outputs": [
    {
     "name": "stdout",
     "output_type": "stream",
     "text": [
      "17\n",
      "34\n"
     ]
    }
   ],
   "source": [
    "# Q4.\n",
    "# In python, a generator function return an iterator instead of data in collective way.\n",
    "# yield return the yielded value and stop the function temporary and resumes it again from where the function had left off, after calling of next().\n",
    "\n",
    "def table_of_17() :\n",
    "    a = 17\n",
    "    for i in range(10) :\n",
    "        yield a\n",
    "        a+=17\n",
    "        \n",
    "table_17 = table_of_17()\n",
    "print(next(table_17))\n",
    "print(next(table_17))"
   ]
  },
  {
   "cell_type": "code",
   "execution_count": 23,
   "id": "d8950f24-89e7-4137-9582-6e35d4dd0276",
   "metadata": {},
   "outputs": [
    {
     "name": "stdout",
     "output_type": "stream",
     "text": [
      "2\n",
      "3\n",
      "5\n",
      "7\n",
      "11\n",
      "13\n",
      "17\n",
      "19\n",
      "23\n",
      "29\n",
      "31\n",
      "37\n",
      "41\n",
      "43\n",
      "47\n",
      "53\n",
      "59\n",
      "61\n",
      "67\n",
      "71\n"
     ]
    }
   ],
   "source": [
    "# Q5.\n",
    "def prime_num() :\n",
    "    for i in range(1,1000) :\n",
    "        if i == 1 :\n",
    "            continue\n",
    "        elif i == 2 :\n",
    "            yield i\n",
    "        else :\n",
    "            for j in range(2,i) :\n",
    "                if i%j == 0 :\n",
    "                   break;\n",
    "            else :\n",
    "                yield i\n",
    "\n",
    "prime = prime_num()\n",
    "for i in range(20) :\n",
    "    print(next(prime))"
   ]
  },
  {
   "cell_type": "code",
   "execution_count": 34,
   "id": "5d16369d-721d-46c9-9d90-150b10889231",
   "metadata": {},
   "outputs": [
    {
     "name": "stdout",
     "output_type": "stream",
     "text": [
      "1\n",
      "1\n",
      "2\n",
      "3\n",
      "5\n",
      "8\n",
      "13\n",
      "21\n",
      "34\n",
      "55\n"
     ]
    }
   ],
   "source": [
    "# Q6.\n",
    "i, n = 0, 10\n",
    "a, b = 0, 1\n",
    "while i < n :\n",
    "    print(b)\n",
    "    c = a+b\n",
    "    a = b\n",
    "    b = c\n",
    "    i+=1"
   ]
  },
  {
   "cell_type": "code",
   "execution_count": 37,
   "id": "4468b686-2993-44da-8ba6-c279b22c4526",
   "metadata": {},
   "outputs": [
    {
     "data": {
      "text/plain": [
       "['p', 'w', 's', 'k', 'i', 'l', 'l', 's']"
      ]
     },
     "execution_count": 37,
     "metadata": {},
     "output_type": "execute_result"
    }
   ],
   "source": [
    "# Q7.\n",
    "s = 'pwskills'\n",
    "l = [i for i in s]\n",
    "l"
   ]
  },
  {
   "cell_type": "code",
   "execution_count": 51,
   "id": "a2b8fc48-213a-4189-acb1-64ba2356fb2b",
   "metadata": {},
   "outputs": [
    {
     "name": "stdout",
     "output_type": "stream",
     "text": [
      "43234 is a palindrome\n"
     ]
    }
   ],
   "source": [
    "# Q8.\n",
    "num = 43234\n",
    "n = num\n",
    "rev_num = 0\n",
    "while n != 0 :\n",
    "    last_digit = n%10\n",
    "    rev_num = rev_num*10 + last_digit\n",
    "    n = n//10\n",
    "if num == rev_num :\n",
    "    print(str(num) + \" is a palindrome\")\n",
    "else :\n",
    "    print(str(num) + \" is not a palindrome\")"
   ]
  },
  {
   "cell_type": "code",
   "execution_count": 2,
   "id": "40581b87-03ab-46ee-a8e0-723a0e696986",
   "metadata": {},
   "outputs": [],
   "source": [
    "# Q9.\n",
    "l = [i for i in range(1, 101)]\n",
    "odd_list = [i for i in l if i%2 != 0]\n"
   ]
  }
 ],
 "metadata": {
  "kernelspec": {
   "display_name": "Python 3 (ipykernel)",
   "language": "python",
   "name": "python3"
  },
  "language_info": {
   "codemirror_mode": {
    "name": "ipython",
    "version": 3
   },
   "file_extension": ".py",
   "mimetype": "text/x-python",
   "name": "python",
   "nbconvert_exporter": "python",
   "pygments_lexer": "ipython3",
   "version": "3.10.8"
  }
 },
 "nbformat": 4,
 "nbformat_minor": 5
}
